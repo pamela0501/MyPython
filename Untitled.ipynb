{
 "cells": [
  {
   "cell_type": "code",
   "execution_count": 5,
   "id": "bdd83577",
   "metadata": {},
   "outputs": [
    {
     "name": "stdout",
     "output_type": "stream",
     "text": [
      "pamela pagal hai 0 == 2\n",
      "pamela pagal hai 1 == 3\n",
      "pamela pagal hai 2 == 4\n",
      "pamela pagal hai 3 == 5\n",
      "pamela pagal hai 4 == 6\n",
      "pamela pagal hai 5 == 7\n",
      "pamela pagal hai 6 == 8\n",
      "pamela pagal hai 7 == 9\n",
      "pamela pagal hai 8 == 10\n",
      "pamela pagal hai 9 == 11\n"
     ]
    }
   ],
   "source": [
    "for x in range(10) : print(\"pamela pagal hai {} == {}\".format(x,x+2) )"
   ]
  },
  {
   "cell_type": "code",
   "execution_count": 13,
   "id": "332e775c",
   "metadata": {},
   "outputs": [
    {
     "name": "stdout",
     "output_type": "stream",
     "text": [
      "I am PAM 1234\n"
     ]
    }
   ],
   "source": [
    "a,b,c =\"PAM\",1234,0.876\n",
    "print(\"I am %s %d\" %(a,b))\n",
    "\n",
    "\n",
    "\n",
    "\n",
    "\n"
   ]
  },
  {
   "cell_type": "code",
   "execution_count": 19,
   "id": "ca7dae6f",
   "metadata": {},
   "outputs": [
    {
     "name": "stdout",
     "output_type": "stream",
     "text": [
      "2\n"
     ]
    }
   ],
   "source": [
    "c = (a,b)\n",
    "print(len(c))\n",
    "\n",
    "\n",
    "\n",
    "\n",
    "\n"
   ]
  },
  {
   "cell_type": "code",
   "execution_count": null,
   "id": "271831d3",
   "metadata": {},
   "outputs": [],
   "source": []
  }
 ],
 "metadata": {
  "kernelspec": {
   "display_name": "Python 3",
   "language": "python",
   "name": "python3"
  },
  "language_info": {
   "codemirror_mode": {
    "name": "ipython",
    "version": 3
   },
   "file_extension": ".py",
   "mimetype": "text/x-python",
   "name": "python",
   "nbconvert_exporter": "python",
   "pygments_lexer": "ipython3",
   "version": "3.9.5"
  }
 },
 "nbformat": 4,
 "nbformat_minor": 5
}
