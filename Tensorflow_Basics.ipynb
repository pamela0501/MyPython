{
  "nbformat": 4,
  "nbformat_minor": 0,
  "metadata": {
    "colab": {
      "name": "Tensorflow_Basics.ipynb",
      "provenance": [],
      "collapsed_sections": [],
      "authorship_tag": "ABX9TyOYzRiX7zb8L/LJsEKmDtFZ",
      "include_colab_link": true
    },
    "kernelspec": {
      "name": "python3",
      "display_name": "Python 3"
    },
    "language_info": {
      "name": "python"
    }
  },
  "cells": [
    {
      "cell_type": "markdown",
      "metadata": {
        "id": "view-in-github",
        "colab_type": "text"
      },
      "source": [
        "<a href=\"https://colab.research.google.com/github/pamela0501/MyPython/blob/main/Tensorflow_Basics.ipynb\" target=\"_parent\"><img src=\"https://colab.research.google.com/assets/colab-badge.svg\" alt=\"Open In Colab\"/></a>"
      ]
    },
    {
      "cell_type": "code",
      "execution_count": null,
      "metadata": {
        "colab": {
          "base_uri": "https://localhost:8080/"
        },
        "id": "k1gtkAfMV51z",
        "outputId": "1188789b-edb9-4063-f61c-5efb62046856"
      },
      "outputs": [
        {
          "output_type": "execute_result",
          "data": {
            "text/plain": [
              "<tf.Tensor: shape=(2, 3), dtype=int32, numpy=\n",
              "array([[1, 1, 1],\n",
              "       [1, 1, 1]], dtype=int32)>"
            ]
          },
          "metadata": {},
          "execution_count": 1
        }
      ],
      "source": [
        "from pprint import pprint\n",
        "\n",
        "import tensorflow as tf\n",
        "import numpy as np\n",
        "a = tf.ones(shape=(2,3), dtype = tf.int32)\n",
        "a"
      ]
    },
    {
      "cell_type": "code",
      "source": [
        "b = tf.constant([[1,2,3],[5,6,7]])\n",
        "print(\"b = \", b)"
      ],
      "metadata": {
        "colab": {
          "base_uri": "https://localhost:8080/"
        },
        "id": "ug0Sl3AdWGke",
        "outputId": "1aa59601-f3af-47f9-824f-376c3319a42e"
      },
      "execution_count": null,
      "outputs": [
        {
          "output_type": "stream",
          "name": "stdout",
          "text": [
            "b =  tf.Tensor(\n",
            "[[1 2 3]\n",
            " [5 6 7]], shape=(2, 3), dtype=int32)\n"
          ]
        }
      ]
    },
    {
      "cell_type": "code",
      "source": [
        "npvar = np.array([\"Hello\", \"World\"])\n",
        "c = tf.constant(npvar)\n",
        "print(\"c= \",c)"
      ],
      "metadata": {
        "colab": {
          "base_uri": "https://localhost:8080/"
        },
        "id": "ePkN3fCoWKBR",
        "outputId": "ebc1d2b6-3cfe-4833-bcdc-216edbdcd5f2"
      },
      "execution_count": null,
      "outputs": [
        {
          "output_type": "stream",
          "name": "stdout",
          "text": [
            "c=  tf.Tensor([b'Hello' b'World'], shape=(2,), dtype=string)\n"
          ]
        }
      ]
    },
    {
      "cell_type": "markdown",
      "source": [
        "We can use random initializer"
      ],
      "metadata": {
        "id": "OytrjK_YWb14"
      }
    },
    {
      "cell_type": "code",
      "source": [
        "e = tf.random.normal(shape= [2,3], mean = 0.0, stddev =1.0)\n",
        "e"
      ],
      "metadata": {
        "colab": {
          "base_uri": "https://localhost:8080/"
        },
        "id": "ayu-OwSvWYJM",
        "outputId": "6023390b-7852-4945-ee83-023ee3ad937a"
      },
      "execution_count": null,
      "outputs": [
        {
          "output_type": "execute_result",
          "data": {
            "text/plain": [
              "<tf.Tensor: shape=(2, 3), dtype=float32, numpy=\n",
              "array([[ 1.590409  , -1.2654614 ,  0.3007141 ],\n",
              "       [ 0.4777444 , -0.18830675, -0.39771727]], dtype=float32)>"
            ]
          },
          "metadata": {},
          "execution_count": 5
        }
      ]
    },
    {
      "cell_type": "code",
      "source": [
        "w = tf.Variable(20., name = \"my_var01\")\n",
        "w"
      ],
      "metadata": {
        "colab": {
          "base_uri": "https://localhost:8080/"
        },
        "id": "9kKx3B9zXb7P",
        "outputId": "ed4ec55c-079c-434f-bd8d-e01ebc69d229"
      },
      "execution_count": null,
      "outputs": [
        {
          "output_type": "execute_result",
          "data": {
            "text/plain": [
              "<tf.Variable 'my_var01:0' shape=() dtype=float32, numpy=20.0>"
            ]
          },
          "metadata": {},
          "execution_count": 7
        }
      ]
    }
  ]
}