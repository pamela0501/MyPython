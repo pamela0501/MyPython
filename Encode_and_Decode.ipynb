{
  "nbformat": 4,
  "nbformat_minor": 0,
  "metadata": {
    "colab": {
      "name": "Encode and Decode.ipynb",
      "provenance": [],
      "authorship_tag": "ABX9TyPo88nrSC/DUuYsX1lOZGtW"
    },
    "kernelspec": {
      "name": "python3",
      "display_name": "Python 3"
    },
    "language_info": {
      "name": "python"
    }
  },
  "cells": [
    {
      "cell_type": "code",
      "source": [
        "alphabet = [ 'a','b','c','d','e','f','g','h','i','j','k','l','m','n','o','p','q','r','s','t','u','v','w','x','y','z']\n",
        "direction = input (\"Type Encode to encrypt or Decode to decrypt\")\n",
        "text = input(\"Type your message\").lower()\n",
        "shift = int(input(\"Enter a number to shift by\"))\n",
        "\n",
        "def encrypt(plain_text, shift_amount):\n",
        "  cipher_text =\"\"\n",
        "  for letter in plain_text:\n",
        "    position = alphabet.index(letter)\n",
        "    new_position = position + shift_amount\n",
        "    new_letter = alphabet[new_position]\n",
        "    cipher_text += new_letter\n",
        "  print(f\"The new text is{cipher_text}\")\n",
        "\n",
        "encrypt(plain_text=text, shift_amount=shift)"
      ],
      "metadata": {
        "colab": {
          "base_uri": "https://localhost:8080/"
        },
        "id": "zmU2a1_FoJ8R",
        "outputId": "338cb5b0-1933-442e-af2d-7ab5006063d3"
      },
      "execution_count": 18,
      "outputs": [
        {
          "output_type": "stream",
          "name": "stdout",
          "text": [
            "Type Encode to encrypt or Decode to decryptencrypt\n",
            "Type your messagepamela\n",
            "Enter a number to shift by1\n",
            "The new text isqbnfmb\n"
          ]
        }
      ]
    }
  ]
}