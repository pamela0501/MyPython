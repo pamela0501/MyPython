{
 "cells": [
  {
   "cell_type": "code",
   "execution_count": 20,
   "id": "16c3c0b8",
   "metadata": {},
   "outputs": [
    {
     "data": {
      "text/plain": [
       "6"
      ]
     },
     "execution_count": 20,
     "metadata": {},
     "output_type": "execute_result"
    }
   ],
   "source": [
    "#declare list\n",
    "a=[1,2,3]\n",
    "b=[\"a,\",1,3.4]\n",
    "c=[\"a\",\"cc\"]\n",
    "len(a)\n",
    "f= a+a\n",
    "len(f)"
   ]
  },
  {
   "cell_type": "code",
   "execution_count": 19,
   "id": "133f59ff",
   "metadata": {},
   "outputs": [
    {
     "data": {
      "text/plain": [
       "[1, 2, 3, 'af', 'rt']"
      ]
     },
     "execution_count": 19,
     "metadata": {},
     "output_type": "execute_result"
    }
   ],
   "source": [
    "#Add/delete from a list\n",
    "a=[1,2,3]\n",
    "a.append(\"af\")\n",
    "a.append(\"rt\")\n",
    "a"
   ]
  },
  {
   "cell_type": "code",
   "execution_count": 22,
   "id": "4e46c307",
   "metadata": {},
   "outputs": [
    {
     "data": {
      "text/plain": [
       "[1, 2, 3, 5]"
      ]
     },
     "execution_count": 22,
     "metadata": {},
     "output_type": "execute_result"
    }
   ],
   "source": [
    "b=[1,2,5]\n",
    "b.insert(2,3)\n",
    "b\n"
   ]
  },
  {
   "cell_type": "code",
   "execution_count": 24,
   "id": "46b76fab",
   "metadata": {},
   "outputs": [
    {
     "name": "stdout",
     "output_type": "stream",
     "text": [
      "[-9, 23, 23, 33, 45, 86, 96]\n"
     ]
    }
   ],
   "source": [
    "x=[-9,45,23,86,33,96,23]\n",
    "x.sort()\n",
    "print(x)\n",
    "\n"
   ]
  },
  {
   "cell_type": "code",
   "execution_count": 25,
   "id": "c3e1e94b",
   "metadata": {},
   "outputs": [
    {
     "data": {
      "text/plain": [
       "[96, 86, 45, 33, 23, 23, -9]"
      ]
     },
     "execution_count": 25,
     "metadata": {},
     "output_type": "execute_result"
    }
   ],
   "source": [
    "x.sort(reverse=True)\n",
    "x\n"
   ]
  },
  {
   "cell_type": "code",
   "execution_count": 26,
   "id": "2122c118",
   "metadata": {},
   "outputs": [
    {
     "data": {
      "text/plain": [
       "-9"
      ]
     },
     "execution_count": 26,
     "metadata": {},
     "output_type": "execute_result"
    }
   ],
   "source": [
    "y=[-9,45,23,86,33,96,23]\n",
    "min(y)\n"
   ]
  },
  {
   "cell_type": "code",
   "execution_count": 27,
   "id": "abec3584",
   "metadata": {},
   "outputs": [
    {
     "data": {
      "text/plain": [
       "96"
      ]
     },
     "execution_count": 27,
     "metadata": {},
     "output_type": "execute_result"
    }
   ],
   "source": [
    "z=[-9,45,23,86,33,96,23]\n",
    "max(z)\n"
   ]
  },
  {
   "cell_type": "code",
   "execution_count": 30,
   "id": "cba9e975",
   "metadata": {},
   "outputs": [
    {
     "name": "stdout",
     "output_type": "stream",
     "text": [
      "[9, 7, 6, 3, 3, 2, 1]\n"
     ]
    }
   ],
   "source": [
    "#Create a list of length 7(int, floats) and sort the menbers in descending order\n",
    "a=[1,2,3,6,3,9,7]\n",
    "a.sort(reverse=True)\n",
    "b=a\n",
    "print(b)\n",
    "\n",
    "\n"
   ]
  },
  {
   "cell_type": "code",
   "execution_count": 32,
   "id": "4a20558a",
   "metadata": {},
   "outputs": [
    {
     "data": {
      "text/plain": [
       "[6, 3, 3]"
      ]
     },
     "execution_count": 32,
     "metadata": {},
     "output_type": "execute_result"
    }
   ],
   "source": [
    "b[2:5]\n",
    "\n"
   ]
  },
  {
   "cell_type": "code",
   "execution_count": 35,
   "id": "6a12f4be",
   "metadata": {},
   "outputs": [
    {
     "data": {
      "text/plain": [
       "['a', 'a', 9, 'b', 7, 'c', 6, 3, 3, 2, 1]"
      ]
     },
     "execution_count": 35,
     "metadata": {},
     "output_type": "execute_result"
    }
   ],
   "source": [
    "b.insert(0,\"a\")\n",
    "b.insert(3,\"b\")\n",
    "b.insert(5,\"c\")\n",
    "b\n",
    "\n",
    "\n",
    "\n"
   ]
  },
  {
   "cell_type": "code",
   "execution_count": 37,
   "id": "a18380e5",
   "metadata": {},
   "outputs": [
    {
     "data": {
      "text/plain": [
       "3"
      ]
     },
     "execution_count": 37,
     "metadata": {},
     "output_type": "execute_result"
    }
   ],
   "source": [
    "#Tuples are immutable\n",
    "a=()\n",
    "a=(1,2,3)\n",
    "b=(1,\"a\")\n",
    "a[-1]\n",
    "\n"
   ]
  },
  {
   "cell_type": "code",
   "execution_count": 49,
   "id": "58bae602",
   "metadata": {},
   "outputs": [
    {
     "data": {
      "text/plain": [
       "{1: 'b', 3: 'c', 4: 'o', 2: 'p'}"
      ]
     },
     "execution_count": 49,
     "metadata": {},
     "output_type": "execute_result"
    }
   ],
   "source": [
    "#DICTIONARY\n",
    "z={}\n",
    "z={\"A\":\"apple\",\"B\":\"boy\"}\n",
    "z\n",
    "z.keys()\n",
    "z.values()\n",
    "z={1:\"a\",1:\"b\",3:\"c\",4:\"d\"}\n",
    "z\n",
    "z[2]=\"p\"\n",
    "z[4]=\"o\"\n",
    "z\n",
    "\n",
    "\n",
    "\n"
   ]
  },
  {
   "cell_type": "code",
   "execution_count": 43,
   "id": "1a6988e5",
   "metadata": {},
   "outputs": [
    {
     "data": {
      "text/plain": [
       "{1, 2, 3, 4, 5, 6, 9}"
      ]
     },
     "execution_count": 43,
     "metadata": {},
     "output_type": "execute_result"
    }
   ],
   "source": [
    "a=[1,2,3,6,3,3,9,6,9,7]\n",
    "tuple(a)\n",
    "set([1,2,3,3,4,4,5,5,6,6,9])"
   ]
  },
  {
   "cell_type": "code",
   "execution_count": 52,
   "id": "75fe7fe6",
   "metadata": {},
   "outputs": [
    {
     "name": "stdout",
     "output_type": "stream",
     "text": [
      "{0: 'a', 1: 'b', 2: 'g', 3: 'y'}\n"
     ]
    }
   ],
   "source": [
    "#Map 2 list into dictionaries\n",
    "a=[\"a\",\"b\",\"g\",\"r\",\"y\"]\n",
    "b=[0,1,2,3,3,4,5]\n",
    "d1= dict(zip(b,a))\n",
    "print(d1)\n"
   ]
  },
  {
   "cell_type": "code",
   "execution_count": 53,
   "id": "79702d0a",
   "metadata": {},
   "outputs": [
    {
     "data": {
      "text/plain": [
       "[1, 2, 3, 4, 5]"
      ]
     },
     "execution_count": 53,
     "metadata": {},
     "output_type": "execute_result"
    }
   ],
   "source": [
    "list(range(1,6,1))\n"
   ]
  },
  {
   "cell_type": "code",
   "execution_count": 1,
   "id": "43cffba1",
   "metadata": {},
   "outputs": [
    {
     "name": "stdout",
     "output_type": "stream",
     "text": [
      "OneTwoThree\n"
     ]
    }
   ],
   "source": [
    "listOfStrings = ['One', 'Two', 'Three']\n",
    "strOfStrings = ''.join(listOfStrings)\n",
    "print(strOfStrings)\n"
   ]
  },
  {
   "cell_type": "code",
   "execution_count": 2,
   "id": "5b8b9b57",
   "metadata": {},
   "outputs": [
    {
     "name": "stdout",
     "output_type": "stream",
     "text": [
      "123\n"
     ]
    }
   ],
   "source": [
    "# List Of Integers to a String\n",
    "listOfNumbers = [1, 2, 3]\n",
    "strOfNumbers = ''.join(str(n) for n in listOfNumbers)\n",
    "print(strOfNumbers)\n"
   ]
  },
  {
   "cell_type": "code",
   "execution_count": 4,
   "id": "44ca7ab7",
   "metadata": {},
   "outputs": [
    {
     "data": {
      "text/plain": [
       "('One', 'Two', 'Three')"
      ]
     },
     "execution_count": 4,
     "metadata": {},
     "output_type": "execute_result"
    }
   ],
   "source": [
    "listOfStrings = ['One', 'Two', 'Three']\n",
    "tuple(listOfStrings)\n",
    "\n"
   ]
  },
  {
   "cell_type": "code",
   "execution_count": null,
   "id": "91298c73",
   "metadata": {},
   "outputs": [],
   "source": []
  }
 ],
 "metadata": {
  "kernelspec": {
   "display_name": "Python 3",
   "language": "python",
   "name": "python3"
  },
  "language_info": {
   "codemirror_mode": {
    "name": "ipython",
    "version": 3
   },
   "file_extension": ".py",
   "mimetype": "text/x-python",
   "name": "python",
   "nbconvert_exporter": "python",
   "pygments_lexer": "ipython3",
   "version": "3.9.5"
  }
 },
 "nbformat": 4,
 "nbformat_minor": 5
}
