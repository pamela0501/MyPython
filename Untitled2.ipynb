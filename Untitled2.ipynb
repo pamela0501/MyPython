{
 "cells": [
  {
   "cell_type": "code",
   "execution_count": 2,
   "id": "1cd493b1",
   "metadata": {},
   "outputs": [
    {
     "name": "stdout",
     "output_type": "stream",
     "text": [
      "hi\n",
      "hi\n",
      "hi\n",
      "hi\n"
     ]
    }
   ],
   "source": [
    "for i in [1,2,3,4]:\n",
    "    print(\"hi\")"
   ]
  },
  {
   "cell_type": "code",
   "execution_count": 7,
   "id": "b1807b9b",
   "metadata": {},
   "outputs": [
    {
     "name": "stdout",
     "output_type": "stream",
     "text": [
      "1\t2\t3\t4\t5\t6\t7\t8\t9\t10\t11\t12\t13\t14\t"
     ]
    }
   ],
   "source": [
    "for i in range(1,15,1):\n",
    "    print(i, end=\"\\t\")\n",
    "    \n",
    "    "
   ]
  },
  {
   "cell_type": "code",
   "execution_count": 8,
   "id": "e08a10f3",
   "metadata": {},
   "outputs": [
    {
     "name": "stdout",
     "output_type": "stream",
     "text": [
      "12\t10\t8\t6\t4\t2\t"
     ]
    }
   ],
   "source": [
    "for i in range(12,1,-2):\n",
    "    print(i, end=\"\\t\")"
   ]
  },
  {
   "cell_type": "code",
   "execution_count": 11,
   "id": "445dd8d3",
   "metadata": {},
   "outputs": [
    {
     "name": "stdout",
     "output_type": "stream",
     "text": [
      "Input a number of elements4\n",
      "Enter number3\n",
      "Enter number5\n",
      "Enter number6\n",
      "Enter number3\n",
      "['3', '5', '6', '3']\n"
     ]
    }
   ],
   "source": [
    "#dynamic list\n",
    "l=[]\n",
    "n=int(input((\"Input a number of elements\")))\n",
    "for i in range(0,n):\n",
    "    x=input(\"Enter number\")\n",
    "    l.append(x)\n",
    "print(l)\n",
    "    "
   ]
  },
  {
   "cell_type": "code",
   "execution_count": 12,
   "id": "43bb5b3b",
   "metadata": {},
   "outputs": [
    {
     "name": "stdout",
     "output_type": "stream",
     "text": [
      "Input a number of elements4\n",
      "Enter number3\n",
      "Enter number5\n",
      "Enter number6\n",
      "Enter number3\n",
      "['3', '5', '6', '3']\n"
     ]
    }
   ],
   "source": [
    "#dynamic list\n",
    "l=[]\n",
    "n=int(input((\"Input a number of elements\")))\n",
    "for i in range(1,n+1):\n",
    "    x=input(\"Enter number\")\n",
    "    l.append(x)\n",
    "print(l)\n"
   ]
  },
  {
   "cell_type": "markdown",
   "id": "d21c2039",
   "metadata": {},
   "source": [
    "## l={}\n",
    "n=int(input((\"Input a number of elements\")))\n",
    "for i in range(1,n+1):\n",
    "    key=input(\"Enter key\")\n",
    "    value=input(\"Enter value\")\n",
    "    l[key]=value\n",
    "print(l)"
   ]
  },
  {
   "cell_type": "code",
   "execution_count": 15,
   "id": "f16a1c22",
   "metadata": {},
   "outputs": [
    {
     "name": "stdout",
     "output_type": "stream",
     "text": [
      "Input a number of elements2\n",
      "Enter key1\n",
      "Enter value2\n",
      "Enter key3\n",
      "Enter value4\n",
      "{'1': '2', '3': '4'}\n"
     ]
    }
   ],
   "source": [
    "l={}\n",
    "n=int(input((\"Input a number of elements\")))\n",
    "for i in range(1,n+1):\n",
    "    key=input(\"Enter key\")\n",
    "    value=input(\"Enter value\")\n",
    "    l[key]=value\n",
    "print(l)\n"
   ]
  },
  {
   "cell_type": "code",
   "execution_count": 17,
   "id": "cecbe8fa",
   "metadata": {},
   "outputs": [
    {
     "name": "stdout",
     "output_type": "stream",
     "text": [
      "Loop\n",
      "Loop\n",
      "Loop\n",
      "Out of loop\n"
     ]
    }
   ],
   "source": [
    "x=0\n",
    "while x<3:\n",
    "     print(\"Loop\")\n",
    "     x= x+1\n",
    "print(\"Out of loop\")\n",
    "\n",
    "    "
   ]
  },
  {
   "cell_type": "code",
   "execution_count": 22,
   "id": "1d50503b",
   "metadata": {},
   "outputs": [
    {
     "name": "stdout",
     "output_type": "stream",
     "text": [
      "Enter namespam\n",
      "pam\n",
      "Enter namesrom\n",
      "rom\n",
      "Enter namesbaby\n",
      "baby\n",
      "Enter namesvarun\n",
      "varun\n",
      "Enter namesgaurav\n",
      "gaurav\n",
      "Out of loop\n"
     ]
    }
   ],
   "source": [
    "x=0\n",
    "while x<5:\n",
    "     y=input(\"Enter names\")\n",
    "     x= x+1\n",
    "     print(y)\n",
    "print(\"Out of loop\")"
   ]
  },
  {
   "cell_type": "markdown",
   "id": "2e0d14c1",
   "metadata": {},
   "source": [
    "x=username\n",
    "p=pwd\n",
    "if username is correct\n",
    "ask user to enter pwd\n",
    "if pwd is correct, welcome to interface\n",
    "3 attempts\n",
    "\n",
    "\n",
    "name=input(\" Enter your name\")\n",
    "username=input(\" Enter your user name\")\n",
    "pwd=input(\" Enter your pwd\")\n",
    "\n",
    "x=0\n",
    "for i in range(0,3):\n",
    "    print(x)\n",
    "     if(name==username)\n",
    "         pass=input(\"Enter password\")\n",
    "          if(pass==pwd)\n",
    "           print(\"Welcome to interface\")\n",
    "           break\n",
    "          else\n",
    "          continue\n",
    "          \n",
    "     "
   ]
  },
  {
   "cell_type": "code",
   "execution_count": 23,
   "id": "b5b67feb",
   "metadata": {},
   "outputs": [
    {
     "name": "stdout",
     "output_type": "stream",
     "text": [
      "Enter a number6\n"
     ]
    },
    {
     "data": {
      "text/plain": [
       "720"
      ]
     },
     "execution_count": 23,
     "metadata": {},
     "output_type": "execute_result"
    }
   ],
   "source": [
    "import math\n",
    "a= int(input(\"Enter a number\"))\n",
    "math.factorial(a)\n"
   ]
  },
  {
   "cell_type": "code",
   "execution_count": 28,
   "id": "b8ad07ba",
   "metadata": {},
   "outputs": [
    {
     "name": "stdout",
     "output_type": "stream",
     "text": [
      "Enter your name - SweetPamela\n"
     ]
    }
   ],
   "source": [
    "def empid():\n",
    " emp=input(\"Enter your name - \")\n",
    "\n",
    "empid()\n"
   ]
  },
  {
   "cell_type": "code",
   "execution_count": 37,
   "id": "763df855",
   "metadata": {},
   "outputs": [
    {
     "name": "stdout",
     "output_type": "stream",
     "text": [
      "Enter x:8\n",
      "Enter y:9\n",
      "Enter your choice*\n",
      "product= 72\n"
     ]
    }
   ],
   "source": [
    "x=int(input(\"Enter x:\"))\n",
    "y=int(input(\"Enter y:\"))\n",
    "def cal(x,y):\n",
    "    choice=input(\"Enter your choice\")\n",
    "    if choice== \"+\":\n",
    "        print(\"sum=\", x+y)\n",
    "    elif choice == \"-\":\n",
    "        print(\"diff=\", x-y)\n",
    "    elif choice == \"*\":\n",
    "        print(\"product=\", x*y) \n",
    "    else:\n",
    "        print(\"option not available\")\n",
    "        \n",
    "        \n",
    "cal(x,y)\n"
   ]
  },
  {
   "cell_type": "code",
   "execution_count": null,
   "id": "a434a347",
   "metadata": {},
   "outputs": [],
   "source": []
  },
  {
   "cell_type": "code",
   "execution_count": null,
   "id": "c2a03063",
   "metadata": {},
   "outputs": [],
   "source": []
  }
 ],
 "metadata": {
  "kernelspec": {
   "display_name": "Python 3",
   "language": "python",
   "name": "python3"
  },
  "language_info": {
   "codemirror_mode": {
    "name": "ipython",
    "version": 3
   },
   "file_extension": ".py",
   "mimetype": "text/x-python",
   "name": "python",
   "nbconvert_exporter": "python",
   "pygments_lexer": "ipython3",
   "version": "3.9.5"
  }
 },
 "nbformat": 4,
 "nbformat_minor": 5
}
