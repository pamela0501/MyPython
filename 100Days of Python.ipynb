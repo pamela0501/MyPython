{
 "cells": [
  {
   "cell_type": "code",
   "execution_count": 1,
   "id": "7f6db05d",
   "metadata": {},
   "outputs": [
    {
     "name": "stdout",
     "output_type": "stream",
     "text": [
      "l\n"
     ]
    }
   ],
   "source": [
    "print(\"Hello\"[3])\n"
   ]
  },
  {
   "cell_type": "code",
   "execution_count": 2,
   "id": "7fb28e89",
   "metadata": {},
   "outputs": [
    {
     "name": "stdout",
     "output_type": "stream",
     "text": [
      "123456.87\n"
     ]
    }
   ],
   "source": [
    "print(123_456.87)\n"
   ]
  },
  {
   "cell_type": "code",
   "execution_count": 3,
   "id": "73460762",
   "metadata": {},
   "outputs": [
    {
     "name": "stdout",
     "output_type": "stream",
     "text": [
      "Your namepamela\n",
      "6\n"
     ]
    }
   ],
   "source": [
    "n= len(input(\"Your name\"))\n",
    "print(n)"
   ]
  },
  {
   "cell_type": "code",
   "execution_count": 4,
   "id": "49f78cca",
   "metadata": {},
   "outputs": [
    {
     "name": "stdout",
     "output_type": "stream",
     "text": [
      "<class 'int'>\n"
     ]
    }
   ],
   "source": [
    "print(type(n))"
   ]
  },
  {
   "cell_type": "code",
   "execution_count": 5,
   "id": "62491b22",
   "metadata": {},
   "outputs": [
    {
     "data": {
      "text/plain": [
       "int"
      ]
     },
     "execution_count": 5,
     "metadata": {},
     "output_type": "execute_result"
    }
   ],
   "source": [
    "type(n)"
   ]
  },
  {
   "cell_type": "code",
   "execution_count": 6,
   "id": "6be14525",
   "metadata": {},
   "outputs": [
    {
     "name": "stdout",
     "output_type": "stream",
     "text": [
      "Enter a 2 digit number23\n",
      "5\n"
     ]
    }
   ],
   "source": [
    "n=input(\"Enter a 2 digit number\")\n",
    "s=str(n)\n",
    "a= str(n[0])\n",
    "b=str(n[1])\n",
    "c=int(a)+int(b)\n",
    "print(c)\n"
   ]
  },
  {
   "cell_type": "code",
   "execution_count": 7,
   "id": "83c81962",
   "metadata": {},
   "outputs": [
    {
     "name": "stdout",
     "output_type": "stream",
     "text": [
      "Enter your height in m3\n",
      "Enter your weight in kg2\n",
      "0.2222222222222222\n"
     ]
    }
   ],
   "source": [
    "h=input(\"Enter your height in m\")\n",
    "w=input(\"Enter your weight in kg\")\n",
    "bmi=float(w)/(float(h)**2)\n",
    "print(float(bmi))\n"
   ]
  },
  {
   "cell_type": "code",
   "execution_count": 8,
   "id": "e03c9ad9",
   "metadata": {},
   "outputs": [
    {
     "name": "stdout",
     "output_type": "stream",
     "text": [
      "1\n"
     ]
    }
   ],
   "source": [
    "print(15//9)"
   ]
  },
  {
   "cell_type": "code",
   "execution_count": 9,
   "id": "236f3140",
   "metadata": {},
   "outputs": [
    {
     "name": "stdout",
     "output_type": "stream",
     "text": [
      "your score is1\n"
     ]
    }
   ],
   "source": [
    "score =0\n",
    "score += 1\n",
    "print(\"your score is\" + str(score))"
   ]
  },
  {
   "cell_type": "code",
   "execution_count": 10,
   "id": "4fcea4fe",
   "metadata": {},
   "outputs": [
    {
     "name": "stdout",
     "output_type": "stream",
     "text": [
      "height is 76, weight is False, radius is 6.9\n"
     ]
    }
   ],
   "source": [
    "h=76\n",
    "w=False\n",
    "r=6.9\n",
    "print(f\"height is {h}, weight is {w}, radius is {r}\")\n"
   ]
  },
  {
   "cell_type": "code",
   "execution_count": 11,
   "id": "7a791fb3",
   "metadata": {},
   "outputs": [
    {
     "name": "stdout",
     "output_type": "stream",
     "text": [
      "Enter your age23\n",
      "You have 17155 days, 2444 weeks and 564 months left\n"
     ]
    }
   ],
   "source": [
    "age= input(\"Enter your age\")\n",
    "last_age=70\n",
    "rem= last_age - int(age)\n",
    "x=rem*365\n",
    "y=rem*52\n",
    "z=rem*12\n",
    "print(f\"You have {x} days, {y} weeks and {z} months left\")\n"
   ]
  },
  {
   "cell_type": "code",
   "execution_count": 12,
   "id": "109bbaa9",
   "metadata": {},
   "outputs": [
    {
     "name": "stdout",
     "output_type": "stream",
     "text": [
      "2335\n"
     ]
    }
   ],
   "source": [
    "a=2334.734241\n",
    "s=round(a)\n",
    "print(s)\n"
   ]
  },
  {
   "cell_type": "code",
   "execution_count": 13,
   "id": "06788691",
   "metadata": {},
   "outputs": [
    {
     "name": "stdout",
     "output_type": "stream",
     "text": [
      "Enter a number32\n",
      "Even-32\n"
     ]
    }
   ],
   "source": [
    "n=input(\"Enter a number\")\n",
    "s=int(n)%2\n",
    "if (s==0):\n",
    " print(\"Even-\" + n)\n",
    "else: \n",
    " print(\"Odd-\" + n)\n"
   ]
  },
  {
   "cell_type": "code",
   "execution_count": 14,
   "id": "c54f5cb6",
   "metadata": {},
   "outputs": [
    {
     "name": "stdout",
     "output_type": "stream",
     "text": [
      "Enter your height in m - 23\n",
      "Enter your weight in kg - 21\n",
      "0.03969754253308128\n",
      "Under weight\n"
     ]
    }
   ],
   "source": [
    "h=input(\"Enter your height in m - \")\n",
    "w=input(\"Enter your weight in kg - \")\n",
    "bmi=float(w)/(float(h)**2)\n",
    "print(float(bmi))\n",
    "if bmi<18.5:\n",
    "    print(\"Under weight\")\n",
    "elif bmi>18.5 & bmi<=25:\n",
    "    print(\"Normal weight\")\n",
    "elif bmi>25 & bmi<=30:\n",
    "    print(\"Overweight\")\n",
    "elif bmi>30 & bmi<=35:\n",
    "    print(\"Obese\")\n",
    "elif bmi>35:\n",
    "    print(\"Clinically Obese\")    \n",
    "else:\n",
    "    print(\"Out of Range !!\")"
   ]
  },
  {
   "cell_type": "code",
   "execution_count": 15,
   "id": "653da132",
   "metadata": {},
   "outputs": [
    {
     "name": "stdout",
     "output_type": "stream",
     "text": [
      "Enter the year3442\n",
      "Not a Leap year\n"
     ]
    }
   ],
   "source": [
    "n=int(input(\"Enter the year\"))\n",
    "out = \"Not a Leap year\"\n",
    "if n%4 == 0 and  n%100 !=0:\n",
    "    out=\"Leap year\"\n",
    "elif n%4 == 0 and  n%100 ==0 and n%400==0:\n",
    "    out=\"Leap year\"             \n",
    "print(out)"
   ]
  },
  {
   "cell_type": "code",
   "execution_count": 16,
   "id": "d1e68049",
   "metadata": {},
   "outputs": [
    {
     "name": "stdout",
     "output_type": "stream",
     "text": [
      "What size of pizza do you need - S/M/L ?s\n",
      "Do you need pepperoni - Y/N ?y\n",
      "Do you want extra cheese -Y/N ?n\n"
     ]
    },
    {
     "ename": "NameError",
     "evalue": "name 'total_bill' is not defined",
     "output_type": "error",
     "traceback": [
      "\u001b[0;31m---------------------------------------------------------------------------\u001b[0m",
      "\u001b[0;31mNameError\u001b[0m                                 Traceback (most recent call last)",
      "\u001b[0;32m<ipython-input-16-b5ff6eb2ff3f>\u001b[0m in \u001b[0;36m<module>\u001b[0;34m\u001b[0m\n\u001b[1;32m     26\u001b[0m \u001b[0;32mif\u001b[0m \u001b[0msize\u001b[0m \u001b[0;34m==\u001b[0m \u001b[0;34m\"L\"\u001b[0m \u001b[0;32mand\u001b[0m \u001b[0madd_pepperoni\u001b[0m \u001b[0;34m==\u001b[0m\u001b[0;34m\"Y\"\u001b[0m \u001b[0;32mand\u001b[0m \u001b[0mcheese\u001b[0m \u001b[0;34m==\u001b[0m \u001b[0;34m'N'\u001b[0m\u001b[0;34m:\u001b[0m\u001b[0;34m\u001b[0m\u001b[0;34m\u001b[0m\u001b[0m\n\u001b[1;32m     27\u001b[0m     \u001b[0mtotal_bill\u001b[0m\u001b[0;34m=\u001b[0m\u001b[0ml\u001b[0m\u001b[0;34m+\u001b[0m\u001b[0mp_ml\u001b[0m\u001b[0;34m\u001b[0m\u001b[0;34m\u001b[0m\u001b[0m\n\u001b[0;32m---> 28\u001b[0;31m \u001b[0mprint\u001b[0m\u001b[0;34m(\u001b[0m\u001b[0mtotal_bill\u001b[0m\u001b[0;34m)\u001b[0m\u001b[0;34m\u001b[0m\u001b[0;34m\u001b[0m\u001b[0m\n\u001b[0m",
      "\u001b[0;31mNameError\u001b[0m: name 'total_bill' is not defined"
     ]
    }
   ],
   "source": [
    "size=input(\"What size of pizza do you need - S/M/L ?\")\n",
    "add_pepperoni=input(\"Do you need pepperoni - Y/N ?\")\n",
    "cheese=input(\"Do you want extra cheese -Y/N ?\")\n",
    "s=15\n",
    "m=20\n",
    "l=25\n",
    "p_s=2\n",
    "p_ml=3\n",
    "c=1\n",
    "if size == \"S\" and add_pepperoni ==\"Y\" and cheese =='Y':\n",
    "    total_bill=s+p_s+c\n",
    "if size == \"S\" and add_pepperoni ==\"N\" and cheese =='Y':\n",
    "    total_bill=s+c\n",
    "if size == \"S\" and add_pepperoni ==\"Y\" and cheese =='N':\n",
    "    total_bill=s+p_s\n",
    "if size == \"M\" and add_pepperoni ==\"Y\" and cheese == 'Y':\n",
    "    total_bill=m+p_ml+c\n",
    "if size == \"M\" and add_pepperoni ==\"N\" and cheese =='Y':\n",
    "    total_bill=m+c\n",
    "if size == \"M\" and add_pepperoni ==\"Y\" and cheese == 'N':\n",
    "    total_bill=m+p_ml\n",
    "if size == \"L\" and add_pepperoni ==\"Y\" and cheese == 'Y':\n",
    "    total_bill=l+p_ml+c\n",
    "if size == \"L\" and add_pepperoni ==\"N\" and cheese == 'Y':\n",
    "    total_bill=l+c\n",
    "if size == \"L\" and add_pepperoni ==\"Y\" and cheese == 'N':\n",
    "    total_bill=l+p_ml\n",
    "print(total_bill)"
   ]
  },
  {
   "cell_type": "code",
   "execution_count": null,
   "id": "557058af",
   "metadata": {},
   "outputs": [],
   "source": [
    "a=input(\"Please input your name\")\n",
    "b=input(\"Please input your second name\")\n",
    "combined_name = a+b\n",
    "lower_combined= combined_name.lower()\n",
    "\n",
    "t= lower_combined.count(\"t\")\n",
    "r= lower_combined.count(\"r\")\n",
    "u= lower_combined.count(\"u\")\n",
    "e= lower_combined.count(\"e\")\n",
    "\n",
    "true = t+r+u+e\n",
    "\n",
    "l= lower_combined.count(\"l\")\n",
    "o= lower_combined.count(\"o\")\n",
    "v= lower_combined.count(\"v\")\n",
    "e= lower_combined.count(\"e\")\n",
    "\n",
    "love = l+o+v+e\n",
    "\n",
    "love_score = int(str(true) + str(love))\n",
    "\n",
    "print(love_score)\n",
    "\n",
    "if (love_score < 10) or (love_score >90):\n",
    "    print(f\"Your love score is {love_score} and you are like coke and menthos\")\n",
    "elif (love_score >=40) and (love_score <=50):\n",
    "    print(f\"Your love score is {love_score} You are alright together\")\n",
    "else:\n",
    "    print(f\"Your love score is {love_score}\")"
   ]
  },
  {
   "cell_type": "code",
   "execution_count": 17,
   "id": "7f364d61",
   "metadata": {},
   "outputs": [
    {
     "name": "stdout",
     "output_type": "stream",
     "text": [
      "Welcome to the Treasure Island\n",
      "Your mission is to find the Treasure Island\n",
      "Which direction do you want to explore - Left or Right ?Left\n",
      "Which activity yo wanna do - Swim or Wait ?wait\n",
      "Which door you wanna open - Blue/Red/Yellow ?yellow\n",
      "You win the game\n"
     ]
    }
   ],
   "source": [
    "print(\"Welcome to the Treasure Island\")\n",
    "print(\"Your mission is to find the Treasure Island\")\n",
    "dir=input(\"Which direction do you want to explore - Left or Right ?\")\n",
    "lower_dir = dir.lower()\n",
    "if lower_dir == \"left\":\n",
    "    action = input(\"Which activity yo wanna do - Swim or Wait ?\")\n",
    "    lower_action = action.lower()\n",
    "    if lower_action == \"wait\":\n",
    "        door=input(\"Which door you wanna open - Blue/Red/Yellow ?\")\n",
    "        lower_door=door.lower()\n",
    "        if lower_door == \"yellow\":\n",
    "            print(\"You win the game\")\n",
    "        else:\n",
    "            print(\"Game Over\")     \n",
    "    else:\n",
    "        print(\"Game Over\")  \n",
    "else:\n",
    "    print(\"Game Over\")   "
   ]
  },
  {
   "cell_type": "code",
   "execution_count": 22,
   "id": "007e73ec",
   "metadata": {},
   "outputs": [
    {
     "name": "stdout",
     "output_type": "stream",
     "text": [
      "16\n",
      "0.5513501104165522\n"
     ]
    }
   ],
   "source": [
    "import random\n",
    "random_integer = random.randint(1,20)\n",
    "print(random_integer)\n",
    "\n",
    "random_float = random.random()\n",
    "print(random_float)"
   ]
  },
  {
   "cell_type": "code",
   "execution_count": 27,
   "id": "6a481c70",
   "metadata": {},
   "outputs": [
    {
     "name": "stdout",
     "output_type": "stream",
     "text": [
      "Heads\n"
     ]
    }
   ],
   "source": [
    "import random\n",
    "random_num = random.randint(0,1)\n",
    "if random_num == 0:\n",
    "    print(\"Heads\")\n",
    "else: \n",
    "    print(\"Tails\")\n",
    "    \n",
    "    "
   ]
  },
  {
   "cell_type": "code",
   "execution_count": 36,
   "id": "9bef766c",
   "metadata": {},
   "outputs": [
    {
     "name": "stdout",
     "output_type": "stream",
     "text": [
      "Enter a list of names separated by commaPam, Rom, Baby, Gaurav\n",
      "['Pam', 'Rom', 'Baby', 'Gaurav']\n",
      "4\n",
      "Pam will pay today\n"
     ]
    }
   ],
   "source": [
    "name=input(\"Enter a list of names separated by comma\")\n",
    "name_list= name.split(\", \")\n",
    "print(name_list)\n",
    "items=len(name_list)\n",
    "print(items)\n",
    "random_choice = random.randint(0,items-1)\n",
    "person_who_will_pay = name_list[random_choice]\n",
    "print(person_who_will_pay + \" will pay today\")"
   ]
  },
  {
   "cell_type": "code",
   "execution_count": 47,
   "id": "629d83b3",
   "metadata": {},
   "outputs": [
    {
     "name": "stdout",
     "output_type": "stream",
     "text": [
      "7\n",
      "The average height is 126.0\n"
     ]
    }
   ],
   "source": [
    "height =[\"123\", \"124\",\"125\",\"126\",\"127\",\"128\",\"129\"]\n",
    "count=len(height)\n",
    "print(count)\n",
    "a=0\n",
    "for each_height in height:\n",
    "#     print(each_height)\n",
    "    a=int(each_height)+a\n",
    "#     print(a)\n",
    "average = a/count\n",
    "print(\"The average height is \" + str(average))\n"
   ]
  },
  {
   "cell_type": "code",
   "execution_count": 60,
   "id": "c1b6dee0",
   "metadata": {},
   "outputs": [
    {
     "name": "stdout",
     "output_type": "stream",
     "text": [
      "0\n",
      "3\n",
      "6\n",
      "9\n"
     ]
    }
   ],
   "source": [
    "# score = input(\"Enter the scores in subjects\")\n",
    "for n in range(0, 101, 3):\n",
    "#     score[n]=int(score[n])\n",
    "    print(n)"
   ]
  },
  {
   "cell_type": "code",
   "execution_count": 2,
   "id": "4de7d052",
   "metadata": {},
   "outputs": [
    {
     "name": "stdout",
     "output_type": "stream",
     "text": [
      "2550\n"
     ]
    }
   ],
   "source": [
    "total = 0\n",
    "for n in range(0,101,2):\n",
    "#     print(n)\n",
    "   total += n\n",
    "print(total)\n",
    "    "
   ]
  },
  {
   "cell_type": "code",
   "execution_count": 7,
   "id": "8e0c04fb",
   "metadata": {},
   "outputs": [
    {
     "name": "stdout",
     "output_type": "stream",
     "text": [
      "1\n",
      "2\n",
      "Fizz\n",
      "4\n",
      "Buzz\n",
      "Fizz\n",
      "7\n",
      "8\n",
      "Fizz\n",
      "Buzz\n",
      "11\n",
      "Fizz\n",
      "13\n",
      "14\n",
      "Fizz\n",
      "16\n",
      "17\n",
      "Fizz\n",
      "19\n",
      "Buzz\n",
      "Fizz\n",
      "22\n",
      "23\n",
      "Fizz\n",
      "Buzz\n",
      "26\n",
      "Fizz\n",
      "28\n",
      "29\n",
      "Fizz\n",
      "31\n",
      "32\n",
      "Fizz\n",
      "34\n",
      "Buzz\n",
      "Fizz\n",
      "37\n",
      "38\n",
      "Fizz\n",
      "Buzz\n",
      "41\n",
      "Fizz\n",
      "43\n",
      "44\n",
      "Fizz\n",
      "46\n",
      "47\n",
      "Fizz\n",
      "49\n",
      "Buzz\n",
      "Fizz\n",
      "52\n",
      "53\n",
      "Fizz\n",
      "Buzz\n",
      "56\n",
      "Fizz\n",
      "58\n",
      "59\n",
      "Fizz\n",
      "61\n",
      "62\n",
      "Fizz\n",
      "64\n",
      "Buzz\n",
      "Fizz\n",
      "67\n",
      "68\n",
      "Fizz\n",
      "Buzz\n",
      "71\n",
      "Fizz\n",
      "73\n",
      "74\n",
      "Fizz\n",
      "76\n",
      "77\n",
      "Fizz\n",
      "79\n",
      "Buzz\n",
      "Fizz\n",
      "82\n",
      "83\n",
      "Fizz\n",
      "Buzz\n",
      "86\n",
      "Fizz\n",
      "88\n",
      "89\n",
      "Fizz\n",
      "91\n",
      "92\n",
      "Fizz\n",
      "94\n",
      "Buzz\n",
      "Fizz\n",
      "97\n",
      "98\n",
      "Fizz\n",
      "Buzz\n"
     ]
    }
   ],
   "source": [
    "\n",
    "for n in range(1,101):\n",
    "#     print(n)\n",
    "    if n%3 == 0:\n",
    "        print(\"Fizz\")\n",
    "    elif n%5 == 0:\n",
    "        print(\"Buzz\")\n",
    "    elif n%3 == 0 and  n%5 == 0:\n",
    "        print(\"BuzzFizz\")\n",
    "    else:\n",
    "        print(n)\n",
    "        \n",
    "        \n",
    "        \n",
    "    "
   ]
  },
  {
   "cell_type": "code",
   "execution_count": 9,
   "id": "603b4415",
   "metadata": {},
   "outputs": [
    {
     "name": "stdout",
     "output_type": "stream",
     "text": [
      "Egypt\n"
     ]
    }
   ],
   "source": [
    "import random\n",
    "list_of_countries = [\"Australia\",\"India\",\"America\",\"Brisbane\",\"Arizona\", \"Egypt\"]\n",
    "word_chosen = random.choice(list_of_countries)\n",
    "print(word_chosen)\n",
    "\n",
    "letter = input(\"Enter a letter\")\n",
    "for l in word_chosen:\n",
    "    if l==letter:\n",
    "        print(\"Right\")\n",
    "    else:\n",
    "        print(\"Wrong\")\n",
    "        "
   ]
  },
  {
   "cell_type": "code",
   "execution_count": null,
   "id": "4978239c",
   "metadata": {},
   "outputs": [],
   "source": []
  },
  {
   "cell_type": "code",
   "execution_count": null,
   "id": "28a93e12",
   "metadata": {},
   "outputs": [],
   "source": []
  }
 ],
 "metadata": {
  "kernelspec": {
   "display_name": "Python 3",
   "language": "python",
   "name": "python3"
  },
  "language_info": {
   "codemirror_mode": {
    "name": "ipython",
    "version": 3
   },
   "file_extension": ".py",
   "mimetype": "text/x-python",
   "name": "python",
   "nbconvert_exporter": "python",
   "pygments_lexer": "ipython3",
   "version": "3.9.5"
  }
 },
 "nbformat": 4,
 "nbformat_minor": 5
}
